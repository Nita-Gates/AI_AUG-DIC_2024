{
  "nbformat": 4,
  "nbformat_minor": 0,
  "metadata": {
    "colab": {
      "provenance": [],
      "authorship_tag": "ABX9TyOt3pzk3nn0vmZ88BVZGz0b",
      "include_colab_link": true
    },
    "kernelspec": {
      "name": "python3",
      "display_name": "Python 3"
    },
    "language_info": {
      "name": "python"
    }
  },
  "cells": [
    {
      "cell_type": "markdown",
      "metadata": {
        "id": "view-in-github",
        "colab_type": "text"
      },
      "source": [
        "<a href=\"https://colab.research.google.com/github/Nita-Gates/AI_AUG-DIC_2024/blob/main/Assignment_2_PythonExercises_1.ipynb\" target=\"_parent\"><img src=\"https://colab.research.google.com/assets/colab-badge.svg\" alt=\"Open In Colab\"/></a>"
      ]
    },
    {
      "cell_type": "markdown",
      "source": [
        "Text Analysis Tool:\n",
        "Create a Python program that reads a text file and performs various analyses on its content. The program should: Count the number of words, sentences, and paragraphs. Calculate the average word length. Identify the most common words and their frequencies.\n",
        "\n",
        "\n"
      ],
      "metadata": {
        "id": "Dkm13FvxNAjM"
      }
    },
    {
      "cell_type": "code",
      "execution_count": 16,
      "metadata": {
        "colab": {
          "base_uri": "https://localhost:8080/"
        },
        "id": "e8_6RV9zGgJd",
        "outputId": "8eadf2ee-3e5d-4d28-d400-28669c4e9895"
      },
      "outputs": [
        {
          "output_type": "stream",
          "name": "stdout",
          "text": [
            "Name: Mariana Salinas Davila\n",
            "Student ID: 1962270\n",
            "\n",
            "Number of Words: 69\n",
            "Number of Paragraphs: 4\n",
            "Number of Sentences: 1\n",
            "Average Word Length: 4.87\n",
            "Most Common Words and Their Frequencies:\n",
            "the: 7\n",
            "universe: 3\n",
            "of: 3\n",
            "to: 3\n",
            "and: 2\n"
          ]
        }
      ],
      "source": [
        "import string\n",
        "\n",
        "print(\"Name: Mariana Salinas Davila\")\n",
        "print(\"Student ID: 1962270\")\n",
        "print()\n",
        "\n",
        "with open('Universe.txt', 'r') as file:\n",
        "    content = file.read().lower().translate(str.maketrans('', '', string.punctuation))\n",
        "\n",
        "    # Contar el número de palabras\n",
        "    num_words = len(content.split())\n",
        "\n",
        "    # Contar el número de párrafos\n",
        "    num_paragraphs = content.count('\\n\\n') + 1\n",
        "\n",
        "    # Contar el número de oraciones\n",
        "    num_sentences = len([sentence for sentence in content.split('.') if sentence.strip()])  # Asegura que no se cuenten oraciones vacías\n",
        "\n",
        "    # Calcular la longitud promedio de las palabras\n",
        "    word_list = content.split()\n",
        "    total_length_words = sum(len(word) for word in word_list)\n",
        "    avg_word_length = total_length_words / num_words if num_words > 0 else 0\n",
        "\n",
        "    # Palabras más frecuentes y sus conteos\n",
        "    word_counts = {}\n",
        "    for word in word_list:\n",
        "        word_counts[word] = word_counts.get(word, 0) + 1\n",
        "\n",
        "    # Almacenar las palabras con la frecuencia más alta\n",
        "    top_n = 5\n",
        "    top_words = sorted(word_counts.items(), key=lambda x: x[1], reverse=True)[:top_n]\n",
        "\n",
        "    print(f\"Number of Words: {num_words}\")\n",
        "    print(f\"Number of Paragraphs: {num_paragraphs}\")\n",
        "    print(f\"Number of Sentences: {num_sentences}\")\n",
        "    print(f\"Average Word Length: {avg_word_length:.2f}\")\n",
        "    print(\"Most Common Words and Their Frequencies:\")\n",
        "    for word, freq in top_words:\n",
        "        print(f\"{word}: {freq}\")\n"
      ]
    },
    {
      "cell_type": "markdown",
      "source": [
        "Hangman Game: Create a Python program that allows a user to play the game of Hangman. The program should randomly select a word from a predefined list, and the player must guess letters one at a time until they guess the word correctly or run out of attempts.\n"
      ],
      "metadata": {
        "id": "0JDs_f8LNNae"
      }
    },
    {
      "cell_type": "code",
      "source": [
        "import random\n",
        "\n",
        "def select_word():\n",
        "    words = ['python', 'programming', 'hangman', 'game', 'developer']\n",
        "    return words[random.randint(0, len(words) - 1)]\n",
        "\n",
        "def display_word(word, guessed_letters):\n",
        "    return ''.join([letter if letter in guessed_letters else '_' for letter in word])\n",
        "\n",
        "def hangman():\n",
        "    print(\"Name: Mariana Salinas Davila\")\n",
        "    print(\"Student ID: 1962270\")\n",
        "    print()\n",
        "\n",
        "    word = select_word()\n",
        "    guessed_letters = set()\n",
        "    attempts = 6\n",
        "\n",
        "    print(\"Welcome to Hangman!\")\n",
        "    print(f\"You have {attempts} attempts to guess the word.\")\n",
        "    print(display_word(word, guessed_letters))\n",
        "\n",
        "    while attempts > 0:\n",
        "        guess = input(\"Guess a letter: \").lower()\n",
        "\n",
        "        if len(guess) != 1 or not guess.isalpha():\n",
        "            print(\"Please enter a single letter.\")\n",
        "            continue\n",
        "\n",
        "        if guess in guessed_letters:\n",
        "            print(\"You already guessed that letter.\")\n",
        "            continue\n",
        "\n",
        "        guessed_letters.add(guess)\n",
        "\n",
        "        if guess in word:\n",
        "            print(\"Good guess!\")\n",
        "        else:\n",
        "            attempts -= 1\n",
        "            print(f\"Incorrect letter. You have {attempts} attempts left.\")\n",
        "\n",
        "        print(display_word(word, guessed_letters))\n",
        "\n",
        "        if all(letter in guessed_letters for letter in word):\n",
        "            print(\"Congratulations, you won!\")\n",
        "            break\n",
        "    else:\n",
        "        print(f\"You lost. The word was '{word}'.\")\n",
        "\n",
        "if __name__ == \"__main__\":\n",
        "    hangman()\n"
      ],
      "metadata": {
        "colab": {
          "base_uri": "https://localhost:8080/"
        },
        "id": "kQWLh8SuMMLc",
        "outputId": "7ca52733-cb4b-436a-8135-e27977d1e450"
      },
      "execution_count": 14,
      "outputs": [
        {
          "output_type": "stream",
          "name": "stdout",
          "text": [
            "Name: Mariana Salinas Davila\n",
            "Student ID: 1962270\n",
            "\n",
            "Welcome to Hangman!\n",
            "You have 6 attempts to guess the word.\n",
            "______\n",
            "Guess a letter: a\n",
            "Incorrect letter. You have 5 attempts left.\n",
            "______\n",
            "Guess a letter: m\n",
            "Incorrect letter. You have 4 attempts left.\n",
            "______\n",
            "Guess a letter: e\n",
            "Incorrect letter. You have 3 attempts left.\n",
            "______\n",
            "Guess a letter: f\n",
            "Incorrect letter. You have 2 attempts left.\n",
            "______\n",
            "Guess a letter: g\n",
            "Incorrect letter. You have 1 attempts left.\n",
            "______\n",
            "Guess a letter: y\n",
            "Good guess!\n",
            "_y____\n",
            "Guess a letter: k\n",
            "Incorrect letter. You have 0 attempts left.\n",
            "_y____\n",
            "You lost. The word was 'python'.\n"
          ]
        }
      ]
    },
    {
      "cell_type": "markdown",
      "source": [
        "Number Guessing Game: Create a program that generates a random number between 1 and 100, and then asks the user to guess the number. The program should provide hints to the user if the guessed number is greater or less than the target number, and keep asking for a new guess until the user guesses correctly."
      ],
      "metadata": {
        "id": "hXO_4G7ZPaq5"
      }
    },
    {
      "cell_type": "code",
      "source": [
        "import random\n",
        "\n",
        "def number_guessing_game():\n",
        "    print(\"Name: Mariana Salinas Davila\")\n",
        "    print(\"Student ID: 1962270\")\n",
        "    print()\n",
        "\n",
        "    # Generate a random number between 1 and 100\n",
        "    target_number = random.randint(1, 100)\n",
        "    guess = None\n",
        "\n",
        "    print(\"Welcome to the Number Guessing Game!\")\n",
        "    print(\"I'm thinking of a number between 1 and 100.\")\n",
        "\n",
        "    while guess != target_number:\n",
        "        try:\n",
        "            guess = int(input(\"Make a guess: \"))\n",
        "\n",
        "            if guess < 1 or guess > 100:\n",
        "                print(\"Please enter a number between 1 and 100.\")\n",
        "            elif guess < target_number:\n",
        "                print(\"Too low, try again.\")\n",
        "            elif guess > target_number:\n",
        "                print(\"Too high, try again.\")\n",
        "            else:\n",
        "                print(\"Congratulations! You've guessed the number.\")\n",
        "\n",
        "        except ValueError:\n",
        "            print(\"Please enter a valid number.\")\n",
        "\n",
        "if __name__ == \"__main__\":\n",
        "    number_guessing_game()\n"
      ],
      "metadata": {
        "colab": {
          "base_uri": "https://localhost:8080/"
        },
        "id": "zb_N5IOZPaGk",
        "outputId": "1d4d7fb7-f04a-4d4a-b0ce-3753b5e2e044"
      },
      "execution_count": 17,
      "outputs": [
        {
          "output_type": "stream",
          "name": "stdout",
          "text": [
            "Name: Mariana Salinas Davila\n",
            "Student ID: 1962270\n",
            "\n",
            "Welcome to the Number Guessing Game!\n",
            "I'm thinking of a number between 1 and 100.\n",
            "Make a guess: 67\n",
            "Too low, try again.\n",
            "Make a guess: 89\n",
            "Congratulations! You've guessed the number.\n"
          ]
        }
      ]
    }
  ]
}